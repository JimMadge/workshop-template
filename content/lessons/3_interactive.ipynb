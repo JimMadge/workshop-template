{
 "cells": [
  {
   "cell_type": "markdown",
   "id": "47e4765a",
   "metadata": {},
   "source": [
    "---\n",
    "numbering:\n",
    "  title:\n",
    "    offset: 0\n",
    "  start: 4\n",
    "---\n",
    "# Interactive Page"
   ]
  },
  {
   "cell_type": "markdown",
   "id": "1e714056",
   "metadata": {},
   "source": [
    "This exercise demonstrates how you can create an interactive page with _executable content_ using a Jupyter Notebook. \n",
    "\n",
    "execute: https://mystmd.org/guide/execute-notebooks\n",
    "\n"
   ]
  },
  {
   "cell_type": "markdown",
   "id": "7822bb24",
   "metadata": {},
   "source": [
    "## Cell Tags and Hiding Input\n",
    "\n",
    "Cell tags in Jupyter Notebooks are metadata labels that you can assign to individual cells. They are useful for customizing the behavior of cells, such as hiding code input.\n",
    "\n",
    "To hide the input of a code cell (so only the output is visible), you can add a tag like `hide_input` to that cell. JB2 recognizes this tag and will hide the code input when rendering or exporting the notebook. \n",
    "\n"
   ]
  },
  {
   "cell_type": "code",
   "execution_count": null,
   "id": "9e1f6a77",
   "metadata": {
    "tags": [
     "hide-input"
    ]
   },
   "outputs": [],
   "source": [
    "a = 3\n",
    "b = 4\n",
    "print(a**b)"
   ]
  },
  {
   "cell_type": "markdown",
   "id": "0cf76e27",
   "metadata": {},
   "source": [
    "To add a tag:\n",
    "\n",
    "1. Select the cell.\n",
    "2. Open the \"View\" menu and enable the \"Cell Toolbar\" → \"Tags\".\n",
    "3. Add the tag `hide_input` (or another tag recognized by your toolchain).\n",
    "\n",
    "This feature is especially useful for creating clean, reader-friendly notebooks where you want to focus on results rather than code details, see below. \n",
    "\n",
    "\n",
    "The code above provides a semi-interactive simulation: you are able to change two parameters but cannot control/adapt the code itself. This will be available in the near feature."
   ]
  }
 ],
 "metadata": {
  "language_info": {
   "name": "python"
  }
 },
 "nbformat": 4,
 "nbformat_minor": 5
}
